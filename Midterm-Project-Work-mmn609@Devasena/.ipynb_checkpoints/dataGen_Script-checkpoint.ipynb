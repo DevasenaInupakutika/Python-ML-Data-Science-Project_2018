{
 "cells": [
  {
   "cell_type": "markdown",
   "metadata": {},
   "source": [
    "## Data Generation Script"
   ]
  },
  {
   "cell_type": "markdown",
   "metadata": {},
   "source": [
    "### Python Imports"
   ]
  },
  {
   "cell_type": "code",
   "execution_count": 3,
   "metadata": {},
   "outputs": [],
   "source": [
    "import csv\n",
    "import numpy as np\n",
    "from matplotlib import pyplot as plt"
   ]
  },
  {
   "cell_type": "markdown",
   "metadata": {},
   "source": [
    "### Data Creation with Random Numbers and saving it in a file 'midterm_data.csv'"
   ]
  },
  {
   "cell_type": "code",
   "execution_count": 4,
   "metadata": {},
   "outputs": [
    {
     "data": {
      "image/png": "[encoded data removed]",
      "text/plain": [
       "<Figure size 432x288 with 1 Axes>"
      ]
     },
     "metadata": {},
     "output_type": "display_data"
    }
   ],
   "source": [
    "filename = 'midterm_data.csv'\n",
    "head = ['X1','X2','Class']\n",
    "fptr = open(filename,'w', newline='')\n",
    "writer = csv.writer(fptr,delimiter=',')\n",
    "writer.writerow(head)\n",
    "    \n",
    "    \n",
    "N=100\n",
    "x0=0.5*np.random.randn(2,N)\n",
    "\n",
    "fig = plt.figure()  #  axis([-10 10 -10 10]),hold on;\n",
    "ax0 = fig.add_subplot(1,1,1)\n",
    "ax0.set_xlim(-10., 10.)\n",
    "ax0.set_ylim(-10., 10.)\n",
    "\n",
    "x1=np.zeros((2,N))\n",
    "x2=np.zeros((2,N))\n",
    "x3=np.zeros((2,N))\n",
    "\n",
    "for j in range(N):\n",
    "   x1[:,j] = x0[:,j] + [-1,1]\n",
    "   x2[:,j] = x0[:,j] + [2,3]\n",
    "   x3[:,j] = x0[:,j] + [2,6]\n",
    "#\n",
    "#\n",
    "ax0.plot(x1[0,:],x1[1,:],'r+')\n",
    "ax0.plot(x2[0,:],x2[1,:],'bo')\n",
    "ax0.plot(x3[0,:],x3[1,:],'g*')\n",
    "\n",
    "\n",
    "for j in range(N):\n",
    "   writer.writerow([x1[0,j],x1[1,j],'1'])\n",
    "for j in range(N):\n",
    "   writer.writerow([x2[0,j],x2[1,j],'2'])\n",
    "for j in range(N):\n",
    "   writer.writerow([x3[0,j],x3[1,j],'3'])\n",
    "\n",
    "\n",
    "fptr.close()"
   ]
  },
  {
   "cell_type": "code",
   "execution_count": null,
   "metadata": {},
   "outputs": [],
   "source": []
  }
 ],
 "metadata": {
  "kernelspec": {
   "display_name": "Python 3",
   "language": "python",
   "name": "python3"
  },
  "language_info": {
   "codemirror_mode": {
    "name": "ipython",
    "version": 3
   },
   "file_extension": ".py",
   "mimetype": "text/x-python",
   "name": "python",
   "nbconvert_exporter": "python",
   "pygments_lexer": "ipython3",
   "version": "3.6.5"
  }
 },
 "nbformat": 4,
 "nbformat_minor": 2
}
